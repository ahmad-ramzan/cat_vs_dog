{
  "cells": [
    {
      "cell_type": "code",
      "execution_count": null,
      "metadata": {
        "colab": {
          "base_uri": "https://localhost:8080/"
        },
        "id": "G84xjDmx1w1r",
        "outputId": "a7813dce-d894-469a-9c1b-849f74c01c23"
      },
      "outputs": [
        {
          "output_type": "stream",
          "name": "stdout",
          "text": [
            "Downloading dogs-vs-cats.zip to /content\n",
            " 99% 1.05G/1.06G [00:05<00:00, 177MB/s]\n",
            "100% 1.06G/1.06G [00:05<00:00, 223MB/s]\n"
          ]
        }
      ],
      "source": [
        "import os\n",
        "os.environ['KAGGLE_USERNAME'] = \"ahmad4922\"\n",
        "os.environ['KAGGLE_KEY'] = \"b3bbc4af9fd19fef94e4e67bbac2a7bf\"\n",
        "!kaggle datasets download -d salader/dogs-vs-cats"
      ]
    },
    {
      "cell_type": "code",
      "execution_count": null,
      "metadata": {
        "id": "0MQxLA1L2K31"
      },
      "outputs": [],
      "source": [
        "import zipfile\n",
        "zip_ref = zipfile.ZipFile('/content/dogs-vs-cats.zip', 'r')\n",
        "zip_ref.extractall('/content')\n",
        "zip_ref.close()"
      ]
    },
    {
      "cell_type": "code",
      "execution_count": null,
      "metadata": {
        "id": "bP_BoBQ72PIm"
      },
      "outputs": [],
      "source": [
        "import tensorflow as tf\n",
        "from tensorflow import keras\n",
        "from keras import Sequential\n",
        "from keras.layers import Dense,Conv2D,MaxPooling2D,Flatten,BatchNormalization,Dropout"
      ]
    },
    {
      "cell_type": "code",
      "execution_count": null,
      "metadata": {
        "colab": {
          "base_uri": "https://localhost:8080/"
        },
        "id": "K5pgET4g2TIV",
        "outputId": "cc3cdc57-47e8-40f8-d34b-fdb47acf0880"
      },
      "outputs": [
        {
          "output_type": "stream",
          "name": "stdout",
          "text": [
            "Found 20000 files belonging to 2 classes.\n",
            "Found 5000 files belonging to 2 classes.\n"
          ]
        }
      ],
      "source": [
        "train_ds = keras.utils.image_dataset_from_directory(\n",
        "    directory = '/content/train',\n",
        "    labels='inferred',\n",
        "    label_mode = 'int',\n",
        "    batch_size=32,\n",
        "    image_size=(190,190)\n",
        ")\n",
        "\n",
        "validation_ds = keras.utils.image_dataset_from_directory(\n",
        "    directory = '/content/test',\n",
        "    labels='inferred',\n",
        "    label_mode = 'int',\n",
        "    batch_size=32,\n",
        "    image_size=(190,190)\n",
        ")"
      ]
    },
    {
      "cell_type": "code",
      "execution_count": null,
      "metadata": {
        "id": "3RNY22uC2X-j"
      },
      "outputs": [],
      "source": [
        "# Normalize\n",
        "def process(image,label):\n",
        "    image = tf.cast(image/255. ,tf.float32)\n",
        "    return image,label\n",
        "\n",
        "train_ds = train_ds.map(process)\n",
        "validation_ds = validation_ds.map(process)"
      ]
    },
    {
      "cell_type": "code",
      "execution_count": null,
      "metadata": {
        "colab": {
          "base_uri": "https://localhost:8080/"
        },
        "id": "bfLBRohd18Kr",
        "outputId": "864c8e33-6caf-4d58-ddf4-e3280ccc9194"
      },
      "outputs": [
        {
          "output_type": "stream",
          "name": "stdout",
          "text": [
            "Model: \"sequential_1\"\n",
            "_________________________________________________________________\n",
            " Layer (type)                Output Shape              Param #   \n",
            "=================================================================\n",
            " conv2d_4 (Conv2D)           (None, 188, 188, 32)      896       \n",
            "                                                                 \n",
            " batch_normalization_4 (Batc  (None, 188, 188, 32)     128       \n",
            " hNormalization)                                                 \n",
            "                                                                 \n",
            " max_pooling2d_4 (MaxPooling  (None, 94, 94, 32)       0         \n",
            " 2D)                                                             \n",
            "                                                                 \n",
            " dropout_6 (Dropout)         (None, 94, 94, 32)        0         \n",
            "                                                                 \n",
            " conv2d_5 (Conv2D)           (None, 92, 92, 64)        18496     \n",
            "                                                                 \n",
            " batch_normalization_5 (Batc  (None, 92, 92, 64)       256       \n",
            " hNormalization)                                                 \n",
            "                                                                 \n",
            " max_pooling2d_5 (MaxPooling  (None, 46, 46, 64)       0         \n",
            " 2D)                                                             \n",
            "                                                                 \n",
            " dropout_7 (Dropout)         (None, 46, 46, 64)        0         \n",
            "                                                                 \n",
            " conv2d_6 (Conv2D)           (None, 44, 44, 128)       73856     \n",
            "                                                                 \n",
            " batch_normalization_6 (Batc  (None, 44, 44, 128)      512       \n",
            " hNormalization)                                                 \n",
            "                                                                 \n",
            " max_pooling2d_6 (MaxPooling  (None, 22, 22, 128)      0         \n",
            " 2D)                                                             \n",
            "                                                                 \n",
            " dropout_8 (Dropout)         (None, 22, 22, 128)       0         \n",
            "                                                                 \n",
            " conv2d_7 (Conv2D)           (None, 20, 20, 128)       147584    \n",
            "                                                                 \n",
            " batch_normalization_7 (Batc  (None, 20, 20, 128)      512       \n",
            " hNormalization)                                                 \n",
            "                                                                 \n",
            " max_pooling2d_7 (MaxPooling  (None, 10, 10, 128)      0         \n",
            " 2D)                                                             \n",
            "                                                                 \n",
            " dropout_9 (Dropout)         (None, 10, 10, 128)       0         \n",
            "                                                                 \n",
            " flatten_1 (Flatten)         (None, 12800)             0         \n",
            "                                                                 \n",
            " dense_3 (Dense)             (None, 128)               1638528   \n",
            "                                                                 \n",
            " dropout_10 (Dropout)        (None, 128)               0         \n",
            "                                                                 \n",
            " dense_4 (Dense)             (None, 64)                8256      \n",
            "                                                                 \n",
            " dropout_11 (Dropout)        (None, 64)                0         \n",
            "                                                                 \n",
            " dense_5 (Dense)             (None, 1)                 65        \n",
            "                                                                 \n",
            "=================================================================\n",
            "Total params: 1,889,089\n",
            "Trainable params: 1,888,385\n",
            "Non-trainable params: 704\n",
            "_________________________________________________________________\n"
          ]
        }
      ],
      "source": [
        "model = Sequential()\n",
        "\n",
        "model.add(Conv2D(32,kernel_size=(3,3),padding='valid',activation='relu',input_shape=(190,190,3)))\n",
        "model.add(BatchNormalization())\n",
        "model.add(MaxPooling2D(pool_size=(2,2),strides=2,padding='valid'))\n",
        "model.add(Dropout(0.2))\n",
        "\n",
        "model.add(Conv2D(64,kernel_size=(3,3),padding='valid',activation='relu'))\n",
        "model.add(BatchNormalization())\n",
        "model.add(MaxPooling2D(pool_size=(2,2),strides=2,padding='valid'))\n",
        "model.add(Dropout(0.2))\n",
        "\n",
        "model.add(Conv2D(128,kernel_size=(3,3),padding='valid',activation='relu'))\n",
        "model.add(BatchNormalization())\n",
        "model.add(MaxPooling2D(pool_size=(2,2),strides=2,padding='valid'))\n",
        "model.add(Dropout(0.2))\n",
        "\n",
        "model.add(Conv2D(128,kernel_size=(3,3),padding='valid',activation='relu'))\n",
        "model.add(BatchNormalization())\n",
        "model.add(MaxPooling2D(pool_size=(2,2),strides=2,padding='valid'))\n",
        "model.add(Dropout(0.2))\n",
        "\n",
        "model.add(Flatten())\n",
        "\n",
        "model.add(Dense(128,activation='relu'))\n",
        "model.add(Dropout(0.5))\n",
        "model.add(Dense(64,activation='relu'))\n",
        "model.add(Dropout(0.5))\n",
        "model.add(Dense(1,activation='sigmoid'))\n",
        "\n",
        "model.summary()\n",
        "\n",
        "model.compile(optimizer='adam',loss='binary_crossentropy',metrics=['accuracy'])"
      ]
    },
    {
      "cell_type": "code",
      "execution_count": null,
      "metadata": {
        "id": "2TSxMfV32oDF"
      },
      "outputs": [],
      "source": [
        "from keras.preprocessing.image import ImageDataGenerator\n",
        "train_datagen = ImageDataGenerator(rescale=1.0/255.0,\n",
        "width_shift_range=0.1, height_shift_range=0.1, horizontal_flip=True)\n",
        "\n",
        "test_datagen = ImageDataGenerator(rescale=1.0/255.0)"
      ]
    },
    {
      "cell_type": "code",
      "execution_count": null,
      "metadata": {
        "colab": {
          "base_uri": "https://localhost:8080/"
        },
        "id": "JJHSQk7j2xWv",
        "outputId": "ebb61773-1fbc-4351-8d0f-28b1a2c2f2eb"
      },
      "outputs": [
        {
          "output_type": "stream",
          "name": "stdout",
          "text": [
            "Found 20000 images belonging to 2 classes.\n",
            "Found 5000 images belonging to 2 classes.\n"
          ]
        }
      ],
      "source": [
        "import sys\n",
        "from matplotlib import pyplot\n",
        "from keras.utils import to_categorical\n",
        "from keras.models import Sequential\n",
        "from keras.layers import Conv2D\n",
        "from keras.layers import MaxPooling2D\n",
        "from keras.layers import Dense\n",
        "from keras.layers import Dropout\n",
        "from keras.layers import Flatten\n",
        "from keras.optimizers import SGD\n",
        "\n",
        "test_it = test_datagen.flow_from_directory('/content/train',\n",
        "class_mode='binary', batch_size=32, target_size=(190, 190))\n",
        "\n",
        "test_it = test_datagen.flow_from_directory('/content/test',\n",
        "class_mode='binary', batch_size=32, target_size=(190, 190))"
      ]
    },
    {
      "cell_type": "code",
      "execution_count": 16,
      "metadata": {
        "colab": {
          "base_uri": "https://localhost:8080/"
        },
        "id": "Eb6KdCO029Y3",
        "outputId": "cb5b5f58-5a7e-47a4-dfb7-26cba7c2274b"
      },
      "outputs": [
        {
          "output_type": "stream",
          "name": "stdout",
          "text": [
            "Epoch 1/10\n",
            "625/625 [==============================] - 2372s 4s/step - loss: 0.7969 - accuracy: 0.5332 - val_loss: 0.6567 - val_accuracy: 0.6042\n",
            "Epoch 2/10\n",
            "625/625 [==============================] - 2301s 4s/step - loss: 0.6838 - accuracy: 0.5477 - val_loss: 0.6457 - val_accuracy: 0.6382\n",
            "Epoch 3/10\n",
            "625/625 [==============================] - 2278s 4s/step - loss: 0.6552 - accuracy: 0.5897 - val_loss: 0.7478 - val_accuracy: 0.5688\n",
            "Epoch 4/10\n",
            "625/625 [==============================] - 2272s 4s/step - loss: 0.6076 - accuracy: 0.6355 - val_loss: 0.5736 - val_accuracy: 0.7162\n",
            "Epoch 5/10\n",
            "625/625 [==============================] - 2266s 4s/step - loss: 0.5533 - accuracy: 0.7000 - val_loss: 0.7042 - val_accuracy: 0.6840\n",
            "Epoch 6/10\n",
            "625/625 [==============================] - 2254s 4s/step - loss: 0.5105 - accuracy: 0.7332 - val_loss: 0.5258 - val_accuracy: 0.7606\n",
            "Epoch 7/10\n",
            "625/625 [==============================] - 2254s 4s/step - loss: 0.4829 - accuracy: 0.7485 - val_loss: 0.4466 - val_accuracy: 0.8018\n",
            "Epoch 8/10\n",
            "625/625 [==============================] - 2244s 4s/step - loss: 0.4365 - accuracy: 0.7781 - val_loss: 0.3656 - val_accuracy: 0.8490\n",
            "Epoch 9/10\n",
            "625/625 [==============================] - 2236s 4s/step - loss: 0.3906 - accuracy: 0.8171 - val_loss: 0.3311 - val_accuracy: 0.8608\n",
            "Epoch 10/10\n",
            "625/625 [==============================] - 2250s 4s/step - loss: 0.3211 - accuracy: 0.8509 - val_loss: 0.5314 - val_accuracy: 0.7518\n"
          ]
        },
        {
          "output_type": "stream",
          "name": "stderr",
          "text": [
            "<ipython-input-16-dc6418d90f2d>:5: UserWarning: `Model.evaluate_generator` is deprecated and will be removed in a future version. Please use `Model.evaluate`, which supports generators.\n",
            "  _, acc = model.evaluate_generator(test_it, steps=len(test_it), verbose=0)\n"
          ]
        },
        {
          "output_type": "stream",
          "name": "stdout",
          "text": [
            "> 75.960\n"
          ]
        }
      ],
      "source": [
        "history = model.fit(train_ds,epochs=10,validation_data=validation_ds)\n",
        "\n",
        "model.save(\"trained_model.h5\")\n",
        "\n",
        "_, acc = model.evaluate_generator(test_it, steps=len(test_it), verbose=0)\n",
        "print('> %.3f' % (acc * 100.0))"
      ]
    }
  ],
  "metadata": {
    "colab": {
      "provenance": []
    },
    "kernelspec": {
      "display_name": "Python 3",
      "name": "python3"
    },
    "language_info": {
      "name": "python"
    }
  },
  "nbformat": 4,
  "nbformat_minor": 0
}