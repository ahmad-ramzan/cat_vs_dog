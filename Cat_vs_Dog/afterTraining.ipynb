{
  "nbformat": 4,
  "nbformat_minor": 0,
  "metadata": {
    "colab": {
      "provenance": []
    },
    "kernelspec": {
      "name": "python3",
      "display_name": "Python 3"
    },
    "language_info": {
      "name": "python"
    }
  },
  "cells": [
    {
      "cell_type": "code",
      "execution_count": 1,
      "metadata": {
        "colab": {
          "base_uri": "https://localhost:8080/"
        },
        "id": "c_QXpXKNT35q",
        "outputId": "3a29db1a-07e2-4565-8c42-079754fd1f6a"
      },
      "outputs": [
        {
          "output_type": "stream",
          "name": "stdout",
          "text": [
            "Downloading dogs-vs-cats.zip to /content\n",
            " 99% 1.06G/1.06G [00:04<00:00, 223MB/s]\n",
            "100% 1.06G/1.06G [00:04<00:00, 235MB/s]\n"
          ]
        }
      ],
      "source": [
        "import os\n",
        "os.environ['KAGGLE_USERNAME'] = \"pakbro00001\"\n",
        "os.environ['KAGGLE_KEY'] = \"63b48a868d9f8779aa53345d24ce8ace\"\n",
        "!kaggle datasets download -d salader/dogs-vs-cats"
      ]
    },
    {
      "cell_type": "code",
      "source": [
        "import zipfile\n",
        "zip_ref = zipfile.ZipFile('/content/dogs-vs-cats.zip', 'r')\n",
        "zip_ref.extractall('/content')\n",
        "zip_ref.close()"
      ],
      "metadata": {
        "id": "vh3PONJZUe9t"
      },
      "execution_count": 2,
      "outputs": []
    },
    {
      "cell_type": "code",
      "source": [
        "from keras.models import load_model\n",
        "import keras\n",
        "import numpy as np\n",
        "\n",
        "def load_image(path):\n",
        "    from tensorflow.keras.preprocessing import image\n",
        "    img = image.load_img(path,target_size=(190,190))\n",
        "    img_array = np.array(img)\n",
        "    img_array=img_array.reshape(1,190,190,3)\n",
        "    return img_array\n",
        "\n",
        "img = load_image('/content/dogs_vs_cats/train/dogs/dog.0.jpg')\n",
        "model = load_model('/content/trained_model.h5')\n",
        "result = model.predict(img)\n",
        "\n",
        "print(result[0])\n"
      ],
      "metadata": {
        "colab": {
          "base_uri": "https://localhost:8080/"
        },
        "id": "Ww8Th1HGUhds",
        "outputId": "e4a4379d-19f5-49b4-a817-f003fbd0640e"
      },
      "execution_count": 45,
      "outputs": [
        {
          "output_type": "stream",
          "name": "stdout",
          "text": [
            "1/1 [==============================] - 0s 265ms/step\n",
            "[1.]\n"
          ]
        }
      ]
    },
    {
      "cell_type": "code",
      "source": [
        "import os\n",
        "from os import listdir\n",
        "new_dir = '/content/dogandcat'\n",
        "os.mkdir(new_dir)\n"
      ],
      "metadata": {
        "id": "aQdLN0XGZHJ6"
      },
      "execution_count": 5,
      "outputs": []
    },
    {
      "cell_type": "code",
      "source": [],
      "metadata": {
        "id": "noLKwI6mHDcv"
      },
      "execution_count": null,
      "outputs": []
    },
    {
      "cell_type": "code",
      "source": [
        "from os import listdir\n",
        "from shutil import copyfile\n",
        "\n",
        "count=0\n",
        "src_directory = '/content/train/cats'\n",
        "for file in listdir(src_directory):\n",
        " src = src_directory + '/' + file\n",
        " dst_dir = new_dir\n",
        " if file.startswith('cat'):\n",
        "  dst = dst_dir + '/' + file\n",
        "  copyfile(src, dst)\n",
        "\n",
        "src_directory = '/content/train/dogs'\n",
        "for file in listdir(src_directory):\n",
        " src = src_directory + '/' + file\n",
        " dst_dir = new_dir\n",
        " if file.startswith('dog'):\n",
        "  dst = dst_dir + '/' + file\n",
        "  copyfile(src, dst)\n",
        "\n",
        "src_directory = '/content/test/cats'\n",
        "for file in listdir(src_directory):\n",
        " src = src_directory + '/' + file\n",
        " dst_dir = new_dir\n",
        " if file.startswith('cat'):\n",
        "  dst = dst_dir + '/' + file\n",
        "  copyfile(src, dst)\n",
        "\n",
        "src_directory = '/content/test/dogs'\n",
        "for file in listdir(src_directory):\n",
        " src = src_directory + '/' + file\n",
        " dst_dir = new_dir\n",
        " if file.startswith('dog'):\n",
        "  dst = dst_dir + '/' + file\n",
        "  copyfile(src, dst)\n",
        "\n",
        "dir_data_list = os.listdir(new_dir)\n",
        "print(len(dir_data_list))"
      ],
      "metadata": {
        "colab": {
          "base_uri": "https://localhost:8080/"
        },
        "id": "ow0O-z-Eaf_H",
        "outputId": "3d533fdb-7c23-4c13-ae26-d41791f859f6"
      },
      "execution_count": 14,
      "outputs": [
        {
          "output_type": "stream",
          "name": "stdout",
          "text": [
            "25000\n"
          ]
        }
      ]
    },
    {
      "cell_type": "code",
      "source": [
        "import numpy as np\n",
        "def load_image(path):\n",
        "    from tensorflow.keras.preprocessing import image\n",
        "    img = image.load_img(path,target_size=(190,190))\n",
        "    img_array = np.array(img)\n",
        "    img_array=img_array.reshape(1,190,190,3)\n",
        "    return img_array\n",
        "\n",
        "file_path = '/content/dogandcat'\n",
        "array=[]\n",
        "for x in os.listdir(file_path):\n",
        "    if x.endswith(\".jpg\"):\n",
        "      path=\"/content/dogandcat/\"+x\n",
        "      prediction = model.predict([load_image(path)])\n",
        "      if prediction>[[0.5]]:\n",
        "        array.append([prediction[0][0],x,1])\n",
        "      else:\n",
        "        array.append([prediction[0][0],x,0])\n",
        "\n",
        "#print(array)"
      ],
      "metadata": {
        "id": "Es5Vz6QhZEtL"
      },
      "execution_count": null,
      "outputs": []
    },
    {
      "cell_type": "code",
      "source": [
        "import numpy as np\n",
        "array.sort(key= lambda array: array[0])\n",
        "\n",
        "np.savetxt(\"predict_values.csv\", \n",
        "           array,\n",
        "           delimiter =\",\", \n",
        "           fmt ='% s')"
      ],
      "metadata": {
        "id": "y6BZlwL4ZRRi"
      },
      "execution_count": 47,
      "outputs": []
    },
    {
      "cell_type": "code",
      "source": [
        "from matplotlib import pyplot\n",
        "from matplotlib.image import imread\n",
        "folder = '/content/dogandcat/'\n",
        "\n",
        "sample_img = load_image(path)\n",
        "prediction = model.predict(sample_img)\n",
        "\n",
        "count=0\n",
        "for i in array:\n",
        "  if i[0] == prediction[0][0]:\n",
        "    count=count+1\n",
        "    pyplot.subplot(330 + 1 + count)\n",
        "    filename = folder + i[1]\n",
        "    image = imread(filename)\n",
        "    pyplot.imshow(image)\n",
        "    pyplot.show()\n",
        "    print(i[1])\n",
        "    if count == 3:\n",
        "      break"
      ],
      "metadata": {
        "colab": {
          "base_uri": "https://localhost:8080/",
          "height": 383
        },
        "id": "jjWTt3tpB0ZQ",
        "outputId": "7130992e-b689-4c9c-83ae-7bae9dbe5089"
      },
      "execution_count": 42,
      "outputs": [
        {
          "output_type": "stream",
          "name": "stdout",
          "text": [
            "1/1 [==============================] - 0s 47ms/step\n"
          ]
        },
        {
          "output_type": "display_data",
          "data": {
            "text/plain": [
              "<Figure size 432x288 with 1 Axes>"
            ],
            "image/png": "[encoded data removed]"
          },
          "metadata": {
            "needs_background": "light"
          }
        },
        {
          "output_type": "stream",
          "name": "stdout",
          "text": [
            "dog.1662.jpg\n"
          ]
        },
        {
          "output_type": "display_data",
          "data": {
            "text/plain": [
              "<Figure size 432x288 with 1 Axes>"
            ],
            "image/png": "[encoded data removed]"
          },
          "metadata": {
            "needs_background": "light"
          }
        },
        {
          "output_type": "stream",
          "name": "stdout",
          "text": [
            "dog.7954.jpg\n"
          ]
        },
        {
          "output_type": "display_data",
          "data": {
            "text/plain": [
              "<Figure size 432x288 with 1 Axes>"
            ],
            "image/png": "[encoded data removed]"
          },
          "metadata": {
            "needs_background": "light"
          }
        },
        {
          "output_type": "stream",
          "name": "stdout",
          "text": [
            "dog.603.jpg\n"
          ]
        }
      ]
    }
  ]
}